{
  "nbformat": 4,
  "nbformat_minor": 0,
  "metadata": {
    "colab": {
      "provenance": [],
      "authorship_tag": "ABX9TyOJxoZgmz8SBj1qKGJjuHNL",
      "include_colab_link": true
    },
    "kernelspec": {
      "name": "python3",
      "display_name": "Python 3"
    },
    "language_info": {
      "name": "python"
    }
  },
  "cells": [
    {
      "cell_type": "markdown",
      "metadata": {
        "id": "view-in-github",
        "colab_type": "text"
      },
      "source": [
        "<a href=\"https://colab.research.google.com/github/monicalamagt/crypto-momentum-model/blob/main/download_data_GECKO.ipynb\" target=\"_parent\"><img src=\"https://colab.research.google.com/assets/colab-badge.svg\" alt=\"Open In Colab\"/></a>"
      ]
    },
    {
      "cell_type": "markdown",
      "source": [
        "# Dowloading Crypto Data from GECKO\n",
        "\n",
        "*Author: Monica Lama*\n",
        "\n",
        "The following notebook is used to download Cryto data using the GECKO Pro API, and is the prelimenary step to running `phase1_factor_model.ipynb`."
      ],
      "metadata": {
        "id": "S1L9Sj7s5iix"
      }
    },
    {
      "cell_type": "code",
      "execution_count": null,
      "metadata": {
        "id": "QRqqZxB75Zji",
        "colab": {
          "base_uri": "https://localhost:8080/"
        },
        "outputId": "0ea1b2b8-006f-45b0-dea6-41f31a91bc27"
      },
      "outputs": [
        {
          "output_type": "stream",
          "name": "stdout",
          "text": [
            "Collecting pycoingecko\n",
            "  Downloading pycoingecko-3.2.0-py3-none-any.whl.metadata (16 kB)\n",
            "Requirement already satisfied: requests in /usr/local/lib/python3.11/dist-packages (from pycoingecko) (2.32.3)\n",
            "Requirement already satisfied: charset-normalizer<4,>=2 in /usr/local/lib/python3.11/dist-packages (from requests->pycoingecko) (3.4.2)\n",
            "Requirement already satisfied: idna<4,>=2.5 in /usr/local/lib/python3.11/dist-packages (from requests->pycoingecko) (3.10)\n",
            "Requirement already satisfied: urllib3<3,>=1.21.1 in /usr/local/lib/python3.11/dist-packages (from requests->pycoingecko) (2.4.0)\n",
            "Requirement already satisfied: certifi>=2017.4.17 in /usr/local/lib/python3.11/dist-packages (from requests->pycoingecko) (2025.7.9)\n",
            "Downloading pycoingecko-3.2.0-py3-none-any.whl (10 kB)\n",
            "Installing collected packages: pycoingecko\n",
            "Successfully installed pycoingecko-3.2.0\n"
          ]
        }
      ],
      "source": [
        "!pip install pycoingecko\n",
        "from google.colab import drive, userdata\n",
        "import pandas as pd\n",
        "import requests\n",
        "import os\n",
        "import time\n",
        "from datetime import datetime\n",
        "from pycoingecko import CoinGeckoAPI"
      ]
    },
    {
      "cell_type": "code",
      "source": [
        "drive.mount('/content/drive')\n",
        "drive_data_path = '/content/drive/MyDrive/crypto_momentum_data'\n",
        "os.makedirs(drive_data_path, exist_ok=True)\n",
        "os.makedirs('data', exist_ok=True)"
      ],
      "metadata": {
        "id": "BrVMTUqr5roX",
        "colab": {
          "base_uri": "https://localhost:8080/"
        },
        "outputId": "16471f7a-cc06-41eb-ed56-7c300128fcdd"
      },
      "execution_count": null,
      "outputs": [
        {
          "output_type": "stream",
          "name": "stdout",
          "text": [
            "Mounted at /content/drive\n"
          ]
        }
      ]
    },
    {
      "cell_type": "markdown",
      "source": [
        "### API Client and Helper Functions"
      ],
      "metadata": {
        "id": "EtMJxTi3SO5a"
      }
    },
    {
      "cell_type": "code",
      "source": [
        "API_KEY = userdata.get('COIN_GECKO_API')\n",
        "cg = CoinGeckoAPI(api_key=API_KEY)"
      ],
      "metadata": {
        "id": "YQgFnz9gSOV7"
      },
      "execution_count": null,
      "outputs": []
    },
    {
      "cell_type": "markdown",
      "source": [
        "## Data Source Summary\n",
        "\n",
        "We use CoinGecko Pro API to collect daily OHLCV data for the top 100 cryptocurrencies by market cap. The data spans January 2024 to December 2024, and is downloaded once and stored locally as .csv. API keys are loaded via Colab secrets.\n"
      ],
      "metadata": {
        "id": "qplnNtdY6Lnj"
      }
    },
    {
      "cell_type": "code",
      "source": [
        "# Gets market data for the top \"quantity\" of coins.\n",
        "def get_top_coins(quantity):\n",
        "  try:\n",
        "      market_data = cg.get_coins_markets(\n",
        "          vs_currency='usd',\n",
        "          order='market_cap_desc',\n",
        "          per_page=quantity,\n",
        "          page=1,\n",
        "          sparkline=False\n",
        "      )\n",
        "\n",
        "      coin_ids = [coin['id'] for coin in market_data]\n",
        "      return market_data, coin_ids\n",
        "\n",
        "  except Exception as e:\n",
        "      print(f\"Getting market data failed. Error: {e}\")\n",
        "      return None, None\n"
      ],
      "metadata": {
        "id": "LtmYIUTpWY9Q"
      },
      "execution_count": null,
      "outputs": []
    },
    {
      "cell_type": "code",
      "source": [
        "def get_ohlcv(coin_ids, start_date, end_date):\n",
        "    for coin_id in coin_ids:\n",
        "        try:\n",
        "            filepath = os.path.join(drive_data_path, f\"{coin_id}.parquet\")\n",
        "\n",
        "            if os.path.exists(filepath):\n",
        "                existing_df = pd.read_parquet(filepath)\n",
        "                last_date = existing_df.index.max().to_pydatetime()\n",
        "\n",
        "                if last_date >= datetime.fromtimestamp(end_date):\n",
        "                    print(f\"{coin_id} is already up to date. Skipping.\")\n",
        "                    continue\n",
        "\n",
        "                from_timestamp = int((last_date + pd.Timedelta(days=1)).timestamp())\n",
        "                print(f\"{coin_id} exists. Appending new data from {last_date.date() + pd.Timedelta(days=1)}\")\n",
        "\n",
        "            else:\n",
        "                existing_df = None\n",
        "                from_timestamp = start_date\n",
        "\n",
        "            print(f\"Fetching {coin_id}...\")\n",
        "            data = cg.get_coin_market_chart_range_by_id(\n",
        "                id=coin_id,\n",
        "                vs_currency='usd',\n",
        "                from_timestamp=from_timestamp,\n",
        "                to_timestamp=end_date\n",
        "            )\n",
        "\n",
        "            prices = data.get('prices', [])\n",
        "            volumes = data.get('total_volumes', [])\n",
        "\n",
        "            if not prices or not volumes:\n",
        "                print(f\"No new data for {coin_id}. Skipping.\")\n",
        "                continue\n",
        "\n",
        "            df = pd.DataFrame({\n",
        "                'timestamp': [p[0] for p in prices],\n",
        "                'price': [p[1] for p in prices],\n",
        "                'volume': [v[1] for v in volumes]\n",
        "            })\n",
        "\n",
        "            df['date'] = pd.to_datetime(df['timestamp'], unit='ms')\n",
        "            df.set_index('date', inplace=True)\n",
        "            df.drop(columns='timestamp', inplace=True)\n",
        "\n",
        "            if existing_df is not None:\n",
        "                df = pd.concat([existing_df, df])\n",
        "                df = df[~df.index.duplicated(keep='last')]\n",
        "\n",
        "            df.to_parquet(filepath)\n",
        "            print(f\"Saved {coin_id}.parquet\")\n",
        "\n",
        "        except Exception as e:\n",
        "            print(f\"Failed for {coin_id}: {e}\")\n",
        "            continue\n"
      ],
      "metadata": {
        "id": "zW5_jifW6MIq"
      },
      "execution_count": null,
      "outputs": []
    },
    {
      "cell_type": "code",
      "source": [
        "#Specify date range\n",
        "start_date = '2024-01-01'\n",
        "end_date = '2024-12-31'\n",
        "\n",
        "start_ts = int(datetime.strptime(start_date, '%Y-%m-%d').timestamp())\n",
        "end_ts = int(datetime.strptime(end_date, '%Y-%m-%d').timestamp())"
      ],
      "metadata": {
        "id": "xaKIv0jto3dM"
      },
      "execution_count": null,
      "outputs": []
    },
    {
      "cell_type": "markdown",
      "source": [
        "### Call to get specified coins for time range."
      ],
      "metadata": {
        "id": "RNp6os_Ec7Xm"
      }
    },
    {
      "cell_type": "code",
      "source": [
        "COIN_LIST = ['bitcoin', 'ethereum', 'solana', 'cardano', 'avalanche-2', 'dogecoin', 'polkadot', 'chainlink']\n",
        "TICKER_MAP = {'bitcoin': 'BTC', 'ethereum': 'ETH', 'solana': 'SOL', 'cardano': 'ADA',\n",
        "              'avalanche-2': 'AVAX', 'dogecoin': 'DOGE', 'polkadot': 'DOT', 'chainlink': 'LINK'}"
      ],
      "metadata": {
        "id": "zysXzfuqc7Ax"
      },
      "execution_count": null,
      "outputs": []
    },
    {
      "cell_type": "code",
      "source": [
        "get_ohlcv(COIN_LIST, start_ts, end_ts)"
      ],
      "metadata": {
        "id": "5wl4VCRhfzxN",
        "colab": {
          "base_uri": "https://localhost:8080/"
        },
        "outputId": "5af7e991-bd23-4fee-bf64-6b8391395e1b"
      },
      "execution_count": null,
      "outputs": [
        {
          "output_type": "stream",
          "name": "stdout",
          "text": [
            "Fetching bitcoin...\n",
            "Saved bitcoin.parquet\n",
            "Fetching ethereum...\n",
            "Failed for ethereum: 500 Server Error: Internal Server Error for url: https://pro-api.coingecko.com/api/v3/coins/ethereum/market_chart/range?vs_currency=usd&from=1704067200&to=1735603200&x_cg_pro_api_key=CG-hdG8XkygQrnX3FSuMmtUhY78\n",
            "Fetching solana...\n",
            "Failed for solana: 500 Server Error: Internal Server Error for url: https://pro-api.coingecko.com/api/v3/coins/solana/market_chart/range?vs_currency=usd&from=1704067200&to=1735603200&x_cg_pro_api_key=CG-hdG8XkygQrnX3FSuMmtUhY78\n",
            "Fetching cardano...\n",
            "Saved cardano.parquet\n",
            "Fetching avalanche-2...\n",
            "Failed for avalanche-2: 500 Server Error: Internal Server Error for url: https://pro-api.coingecko.com/api/v3/coins/avalanche-2/market_chart/range?vs_currency=usd&from=1704067200&to=1735603200&x_cg_pro_api_key=CG-hdG8XkygQrnX3FSuMmtUhY78\n",
            "Fetching dogecoin...\n",
            "Saved dogecoin.parquet\n",
            "Fetching polkadot...\n",
            "Saved polkadot.parquet\n",
            "Fetching chainlink...\n",
            "Saved chainlink.parquet\n"
          ]
        }
      ]
    },
    {
      "cell_type": "markdown",
      "source": [
        "### Call to get top 100 coins by market cap, and the coin history over time range."
      ],
      "metadata": {
        "id": "o9-xOTuBcnrZ"
      }
    },
    {
      "cell_type": "code",
      "source": [
        "top_100, coin_ids = get_top_coins(100)\n",
        "get_ohlcv(coin_ids, start_ts, end_ts)"
      ],
      "metadata": {
        "id": "g1kFCtj6YWO8"
      },
      "execution_count": null,
      "outputs": []
    }
  ]
}